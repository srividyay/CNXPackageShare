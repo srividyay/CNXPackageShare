{
  "nbformat": 4,
  "nbformat_minor": 0,
  "metadata": {
    "colab": {
      "provenance": [],
      "mount_file_id": "1pQnJXbtnH9QzqiYb3JzO4NAPJb8HuX1i",
      "authorship_tag": "ABX9TyOFQBN3EO4gUR+84iRkS211",
      "include_colab_link": true
    },
    "kernelspec": {
      "name": "python3",
      "display_name": "Python 3"
    },
    "language_info": {
      "name": "python"
    }
  },
  "cells": [
    {
      "cell_type": "markdown",
      "metadata": {
        "id": "view-in-github",
        "colab_type": "text"
      },
      "source": [
        "<a href=\"https://colab.research.google.com/github/srividyay/CNXPackageShare/blob/master/ImageDataAnalysis_FinalProject_081825.ipynb\" target=\"_parent\"><img src=\"https://colab.research.google.com/assets/colab-badge.svg\" alt=\"Open In Colab\"/></a>"
      ]
    },
    {
      "cell_type": "code",
      "execution_count": 1,
      "metadata": {
        "id": "QDO0WibX8h3O"
      },
      "outputs": [],
      "source": [
        "import tensorflow as tf\n",
        "from tensorflow import keras\n",
        "from tensorflow.keras import layers\n",
        "from tensorflow.keras.models import Sequential\n",
        "from tensorflow.keras import utils\n",
        "import numpy as np\n",
        "import matplotlib.pyplot as plt\n",
        "import os\n",
        "import glob\n",
        "import pathlib\n",
        "import zipfile\n",
        "import PIL\n",
        "from PIL import Image\n",
        "from sklearn.model_selection import train_test_split\n",
        "from collections import Counter\n",
        "from sklearn.metrics import classification_report, confusion_matrix, roc_curve, auc\n",
        "from tensorflow.keras.metrics import Precision, Recall, AUC\n",
        "from sklearn.metrics import ConfusionMatrixDisplay\n",
        "from tensorflow.keras.callbacks import EarlyStopping"
      ]
    },
    {
      "cell_type": "code",
      "source": [
        "def extractDataSet(folder_path, labels, label_mode, image_size, batch_size, validation_split_ratio, subsetName, seed, shuffle, interpolation):\n",
        "    return tf.keras.utils.image_dataset_from_directory(\n",
        "        directory=folder_path,\n",
        "        labels=labels,\n",
        "        label_mode=label_mode,\n",
        "        image_size=image_size,\n",
        "        batch_size=batch_size,\n",
        "        validation_split=validation_split_ratio,\n",
        "        interpolation=interpolation,\n",
        "        subset=subsetName,\n",
        "        seed=seed,\n",
        "        shuffle=shuffle\n",
        "    )"
      ],
      "metadata": {
        "id": "PICTHuADBEjH"
      },
      "execution_count": 2,
      "outputs": []
    },
    {
      "cell_type": "code",
      "source": [
        "# Set parameters for dataset\n",
        "image_size = (128, 128)\n",
        "img_height = 128\n",
        "img_width = 128\n",
        "batch_size = 32\n",
        "seed = 0\n",
        "validation_split_ratio = 0.2 # 20% for validation\n",
        "interpolation=\"bilinear\"\n",
        "labels=\"inferred\"\n",
        "label_mode='int'\n",
        "shuffle=True"
      ],
      "metadata": {
        "id": "7DZUFGP0JpWY"
      },
      "execution_count": 3,
      "outputs": []
    },
    {
      "cell_type": "code",
      "source": [
        "extract_dir = '/content/drive/MyDrive/Colab_Data/retinal_scan_images'\n",
        "train_ds = tf.keras.utils.image_dataset_from_directory(\n",
        "    directory=extract_dir,\n",
        "    labels=None,\n",
        "    label_mode=label_mode,\n",
        "    image_size=image_size,\n",
        "    batch_size=batch_size,\n",
        "    validation_split=validation_split_ratio,\n",
        "    interpolation=interpolation,\n",
        "    subset='training',\n",
        "    seed=seed,\n",
        "    shuffle=shuffle\n",
        ")\n",
        "val_ds = tf.keras.utils.image_dataset_from_directory(\n",
        "    directory=extract_dir,\n",
        "    labels=None,\n",
        "    label_mode=label_mode,\n",
        "    image_size=image_size,\n",
        "    batch_size=batch_size,\n",
        "    validation_split=validation_split_ratio,\n",
        "    interpolation=interpolation,\n",
        "    subset='validation',\n",
        "    seed=seed,\n",
        "    shuffle=shuffle\n",
        ")"
      ],
      "metadata": {
        "colab": {
          "base_uri": "https://localhost:8080/"
        },
        "id": "fdGopFkMJsA8",
        "outputId": "5558b06a-1463-41c8-f20c-8afd0420cc19"
      },
      "execution_count": 16,
      "outputs": [
        {
          "output_type": "stream",
          "name": "stdout",
          "text": [
            "Found 3223 files.\n",
            "Using 2579 files for training.\n",
            "Found 3223 files.\n",
            "Using 644 files for validation.\n"
          ]
        }
      ]
    }
  ]
}